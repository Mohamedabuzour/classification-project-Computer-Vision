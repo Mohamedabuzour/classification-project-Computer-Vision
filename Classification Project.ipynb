{
 "cells": [
  {
   "cell_type": "code",
   "execution_count": 64,
   "id": "4526ad59",
   "metadata": {},
   "outputs": [],
   "source": [
    "import os \n",
    "import cv2 as cv\n",
    "import numpy as np \n",
    "import matplotlib.pyplot as plt \n",
    "from warnings import filterwarnings\n",
    "filterwarnings(\"ignore\")"
   ]
  },
  {
   "cell_type": "code",
   "execution_count": 65,
   "id": "f1c234e3",
   "metadata": {},
   "outputs": [
    {
     "name": "stdout",
     "output_type": "stream",
     "text": [
      "C:\\Users\\AMIT\\Desktop\\Amit\\Sessions\\5-Computer Vision\\My Sessions\\Session 4\\Project1\\data\n"
     ]
    }
   ],
   "source": [
    "cd \"C:\\Users\\AMIT\\Desktop\\Amit\\Sessions\\5-Computer Vision\\My Sessions\\Session 4\\Project1\\data\\\""
   ]
  },
  {
   "cell_type": "code",
   "execution_count": 66,
   "id": "5bbdc940",
   "metadata": {},
   "outputs": [],
   "source": [
    "X_train = []\n",
    "y_train = []\n",
    "clss = os.listdir(\"train\")\n",
    "for cls in clss:\n",
    "    cls_path = f\"train/{cls}\"\n",
    "    img_names = os.listdir(cls_path)\n",
    "    for name in img_names:\n",
    "        img_path = f\"{cls_path}/{name}\"\n",
    "        img = plt.imread(img_path)\n",
    "        X_train.append(img)\n",
    "        y_train.append(cls)"
   ]
  },
  {
   "cell_type": "code",
   "execution_count": 67,
   "id": "fcb9dde9",
   "metadata": {},
   "outputs": [],
   "source": [
    "X_test = []\n",
    "y_test = []\n",
    "clss = os.listdir(\"test\")\n",
    "for cls in clss:\n",
    "    cls_path = f\"test/{cls}\"\n",
    "    img_names = os.listdir(cls_path)\n",
    "    for name in img_names:\n",
    "        img_path = f\"{cls_path}/{name}\"\n",
    "        img = plt.imread(img_path)\n",
    "        X_test.append(img)\n",
    "        y_test.append(cls)"
   ]
  },
  {
   "cell_type": "code",
   "execution_count": 68,
   "id": "e70cacf3",
   "metadata": {},
   "outputs": [],
   "source": [
    "X_train = np.array([cv.resize(img, (64, 64)) for img in X_train])\n",
    "X_test = np.array([cv.resize(img, (64, 64)) for img in X_test])\n",
    "y_train = np.array(y_train)\n",
    "y_test = np.array(y_test)"
   ]
  },
  {
   "cell_type": "markdown",
   "id": "d30d8c6e",
   "metadata": {},
   "source": [
    "# Data Split"
   ]
  },
  {
   "cell_type": "code",
   "execution_count": 69,
   "id": "ff2d5bef",
   "metadata": {},
   "outputs": [],
   "source": [
    "from sklearn.model_selection import train_test_split\n",
    "X_train, X_val, y_train, y_val = train_test_split(X_train, y_train, test_size=.1, random_state=42)"
   ]
  },
  {
   "cell_type": "markdown",
   "id": "d59b4611",
   "metadata": {},
   "source": [
    "# Normalization"
   ]
  },
  {
   "cell_type": "code",
   "execution_count": 70,
   "id": "7a70fa38",
   "metadata": {},
   "outputs": [],
   "source": [
    "X_train = X_train / 255\n",
    "X_val = X_val / 255\n",
    "X_test = X_test / 255"
   ]
  },
  {
   "cell_type": "markdown",
   "id": "d2d3d18a",
   "metadata": {},
   "source": [
    "# Encoding"
   ]
  },
  {
   "cell_type": "code",
   "execution_count": 71,
   "id": "c221441b",
   "metadata": {},
   "outputs": [],
   "source": [
    "import pandas as pd \n",
    "y_train = pd.get_dummies(y_train)\n",
    "y_val = pd.get_dummies(y_val)\n",
    "y_test = pd.get_dummies(y_test)\n"
   ]
  },
  {
   "cell_type": "markdown",
   "id": "3a97a44c",
   "metadata": {},
   "source": [
    "# LeNet Model"
   ]
  },
  {
   "cell_type": "code",
   "execution_count": 34,
   "id": "9a2de029",
   "metadata": {},
   "outputs": [],
   "source": [
    "from tensorflow.keras.models import Sequential\n",
    "from tensorflow.keras.layers import Input, Dense, Conv2D, Flatten, MaxPooling2D, Dropout"
   ]
  },
  {
   "cell_type": "code",
   "execution_count": 43,
   "id": "59d6746e",
   "metadata": {},
   "outputs": [],
   "source": [
    "model = Sequential([\n",
    "    Conv2D(filters=32, kernel_size=(5, 5), strides=1, padding='same', activation='relu', input_shape=(28, 28, 3)),\n",
    "    MaxPooling2D(pool_size=(2, 2), strides=2),\n",
    "    Conv2D(filters=64, kernel_size=(5, 5), strides=1, padding='same', activation='relu'),\n",
    "    MaxPooling2D(pool_size=(2, 2), strides=2),\n",
    "\n",
    "    Flatten(),\n",
    "    Dense(units=128, activation='relu'),\n",
    "    Dropout(rate=0.5),\n",
    "    Dense(units=6, activation='softmax'),\n",
    "])"
   ]
  },
  {
   "cell_type": "code",
   "execution_count": 44,
   "id": "cc7b6558",
   "metadata": {},
   "outputs": [],
   "source": [
    "model.compile(loss=\"categorical_crossentropy\",\n",
    "              metrics = [\"accuracy\"],\n",
    "              optimizer=\"adam\")"
   ]
  },
  {
   "cell_type": "code",
   "execution_count": null,
   "id": "dfbfe003",
   "metadata": {},
   "outputs": [],
   "source": [
    "model.fit(X_train, y_train, epochs=50, validation_data=[X_val, y_val])"
   ]
  },
  {
   "cell_type": "code",
   "execution_count": 47,
   "id": "b17230b6",
   "metadata": {
    "scrolled": true
   },
   "outputs": [
    {
     "name": "stdout",
     "output_type": "stream",
     "text": [
      "94/94 [==============================] - 2s 23ms/step - loss: 0.6756 - accuracy: 0.7607\n"
     ]
    },
    {
     "data": {
      "text/plain": [
       "[0.6755803823471069, 0.7606666684150696]"
      ]
     },
     "execution_count": 47,
     "metadata": {},
     "output_type": "execute_result"
    }
   ],
   "source": [
    "model.evaluate(X_test, y_test)"
   ]
  },
  {
   "cell_type": "markdown",
   "id": "f15b6781",
   "metadata": {},
   "source": [
    "**pred**"
   ]
  },
  {
   "cell_type": "code",
   "execution_count": 53,
   "id": "0e0105a8",
   "metadata": {},
   "outputs": [
    {
     "name": "stdout",
     "output_type": "stream",
     "text": [
      "1/1 [==============================] - 0s 107ms/step\n"
     ]
    },
    {
     "data": {
      "text/plain": [
       "'buildings'"
      ]
     },
     "execution_count": 53,
     "metadata": {},
     "output_type": "execute_result"
    }
   ],
   "source": [
    "img = X_test[0]\n",
    "img = np.array([img])\n",
    "pred = model.predict(img)\n",
    "clss[np.argmax(pred)]"
   ]
  },
  {
   "cell_type": "code",
   "execution_count": 54,
   "id": "53132990",
   "metadata": {},
   "outputs": [
    {
     "name": "stderr",
     "output_type": "stream",
     "text": [
      "\n",
      "KeyboardInterrupt\n",
      "\n"
     ]
    }
   ],
   "source": [
    "clss[y_test[0]]"
   ]
  },
  {
   "cell_type": "code",
   "execution_count": 60,
   "id": "74b083aa",
   "metadata": {},
   "outputs": [
    {
     "data": {
      "text/plain": [
       "'buildings'"
      ]
     },
     "execution_count": 60,
     "metadata": {},
     "output_type": "execute_result"
    }
   ],
   "source": [
    "y = y_test.iloc[0]\n",
    "y[y==1].index[0]"
   ]
  },
  {
   "cell_type": "code",
   "execution_count": 76,
   "id": "4da9103e",
   "metadata": {},
   "outputs": [
    {
     "data": {
      "text/plain": [
       "<matplotlib.image.AxesImage at 0x165978bc850>"
      ]
     },
     "execution_count": 76,
     "metadata": {},
     "output_type": "execute_result"
    },
    {
     "data": {
      "image/png": "[encoded data removed]",
      "text/plain": [
       "<Figure size 100x100 with 1 Axes>"
      ]
     },
     "metadata": {},
     "output_type": "display_data"
    }
   ],
   "source": [
    "plt.figure(figsize=(1, 1))\n",
    "plt.imshow(X_test[0])"
   ]
  },
  {
   "cell_type": "code",
   "execution_count": null,
   "id": "bed4e9b8",
   "metadata": {},
   "outputs": [],
   "source": []
  }
 ],
 "metadata": {
  "kernelspec": {
   "display_name": "Python 3 (ipykernel)",
   "language": "python",
   "name": "python3"
  },
  "language_info": {
   "codemirror_mode": {
    "name": "ipython",
    "version": 3
   },
   "file_extension": ".py",
   "mimetype": "text/x-python",
   "name": "python",
   "nbconvert_exporter": "python",
   "pygments_lexer": "ipython3",
   "version": "3.10.9"
  }
 },
 "nbformat": 4,
 "nbformat_minor": 5
}
